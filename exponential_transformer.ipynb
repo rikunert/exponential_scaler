{
 "cells": [
  {
   "cell_type": "code",
   "execution_count": 3,
   "metadata": {},
   "outputs": [],
   "source": [
    "def score_scale_fun(X, scores_old_min, scores_old_max, scores_new_min=0, scores_new_max=1):\n",
    "    X = scores_new_max - ((scores_new_max - scores_new_min) * (scores_old_max - X) / (scores_old_max - scores_old_min))\n",
    "    return X\n",
    "\n",
    "def exp_scale_fun(df, exponent=-1):\n",
    "    df_tranformed = 1 - ((df + 1.0)**(exponent))\n",
    "    df_transformed_scaled = score_scale_fun(df_tranformed, df_tranformed.min(), df_tranformed.max(), df.min(), df.max())\n",
    "    return df_transformed_scaled"
   ]
  },
  {
   "cell_type": "code",
   "execution_count": 4,
   "metadata": {},
   "outputs": [
    {
     "data": {
      "text/html": [
       "<div>\n",
       "<style scoped>\n",
       "    .dataframe tbody tr th:only-of-type {\n",
       "        vertical-align: middle;\n",
       "    }\n",
       "\n",
       "    .dataframe tbody tr th {\n",
       "        vertical-align: top;\n",
       "    }\n",
       "\n",
       "    .dataframe thead th {\n",
       "        text-align: right;\n",
       "    }\n",
       "</style>\n",
       "<table border=\"1\" class=\"dataframe\">\n",
       "  <thead>\n",
       "    <tr style=\"text-align: right;\">\n",
       "      <th></th>\n",
       "      <th>original_data</th>\n",
       "    </tr>\n",
       "  </thead>\n",
       "  <tbody>\n",
       "    <tr>\n",
       "      <th>0</th>\n",
       "      <td>0.000000</td>\n",
       "    </tr>\n",
       "    <tr>\n",
       "      <th>1</th>\n",
       "      <td>100.000000</td>\n",
       "    </tr>\n",
       "    <tr>\n",
       "      <th>2</th>\n",
       "      <td>133.333333</td>\n",
       "    </tr>\n",
       "    <tr>\n",
       "      <th>3</th>\n",
       "      <td>150.000000</td>\n",
       "    </tr>\n",
       "    <tr>\n",
       "      <th>4</th>\n",
       "      <td>160.000000</td>\n",
       "    </tr>\n",
       "  </tbody>\n",
       "</table>\n",
       "</div>"
      ],
      "text/plain": [
       "   original_data\n",
       "0       0.000000\n",
       "1     100.000000\n",
       "2     133.333333\n",
       "3     150.000000\n",
       "4     160.000000"
      ]
     },
     "execution_count": 4,
     "metadata": {},
     "output_type": "execute_result"
    }
   ],
   "source": [
    "import numpy as np\n",
    "import pandas as pd\n",
    "\n",
    "data = range(200)\n",
    "\n",
    "df = pd.DataFrame({'original_data': data}, index=data)\n",
    "\n",
    "df_transformed = exp_scale_fun(df.copy(), -1)\n",
    "df_transformed.head()"
   ]
  },
  {
   "cell_type": "code",
   "execution_count": 89,
   "metadata": {},
   "outputs": [],
   "source": [
    "import matplotlib.pyplot as plt\n",
    "\n",
    "def nuss_style_fun(fig, ax, title, author_line=True):\n",
    "    \n",
    "    #remove top and right frame parts\n",
    "    ax.spines['top'].set_visible(False)\n",
    "    ax.spines['right'].set_visible(False)\n",
    "    \n",
    "    # set left and bottom axis to grey\n",
    "    ax.spines['left'].set_color('grey')\n",
    "    ax.spines['bottom'].set_color('grey')\n",
    "    \n",
    "    # set ticks to grey\n",
    "    ax.tick_params(axis='x', colors='grey')\n",
    "    ax.tick_params(axis='y', colors='grey')\n",
    "    \n",
    "    #set labels to grey\n",
    "    ax.yaxis.label.set_color('grey')\n",
    "    ax.xaxis.label.set_color('grey') \n",
    "    \n",
    "    # align axis labels with axis ends\n",
    "    ax.set_xlabel(xlabel=None,\n",
    "                  position=[0, 0],\n",
    "                  horizontalalignment='left',\n",
    "                  color='grey',\n",
    "                  size=14)\n",
    "    ax.set_ylabel(ylabel=None,\n",
    "                  position=[0, 1],\n",
    "                  horizontalalignment='right',\n",
    "                  color='grey',\n",
    "                  size=14)\n",
    "    \n",
    "    #align title\n",
    "    ax.set_title(label=title,\n",
    "                 loc='left',\n",
    "                 color=(0.41, 0.41, 0.41),\n",
    "                 size=20)\n",
    "    \n",
    "    #author line\n",
    "    if author_line:\n",
    "        fig.text(0.99, 0.01, '@rikunert', color='lightgrey', style='italic',\n",
    "             horizontalalignment='right')\n",
    "    \n",
    "    return ax\n",
    "\n",
    "def transformation_viz_fun(df, title):\n",
    "        \n",
    "        # initialise plot\n",
    "        fig, ax = plt.subplots()\n",
    "        \n",
    "        # draw line chart\n",
    "        df.plot(cmap=plt.get_cmap('viridis'),\n",
    "                ax=ax)\n",
    "        \n",
    "        # adjust style\n",
    "        ax = nuss_style_fun(fig, ax, title=title)\n",
    "        \n",
    "        # label axes\n",
    "        ax.set(xlabel='Original scale',\n",
    "              ylabel='Transformed scale')\n",
    "        \n",
    "        # reverse legend labels\n",
    "        handles, labels = ax.get_legend_handles_labels()\n",
    "        ax.legend(reversed(handles), reversed(labels))\n",
    "        \n",
    "        return fig, ax"
   ]
  },
  {
   "cell_type": "code",
   "execution_count": 90,
   "metadata": {},
   "outputs": [
    {
     "data": {
      "text/html": [
       "<div>\n",
       "<style scoped>\n",
       "    .dataframe tbody tr th:only-of-type {\n",
       "        vertical-align: middle;\n",
       "    }\n",
       "\n",
       "    .dataframe tbody tr th {\n",
       "        vertical-align: top;\n",
       "    }\n",
       "\n",
       "    .dataframe thead th {\n",
       "        text-align: right;\n",
       "    }\n",
       "</style>\n",
       "<table border=\"1\" class=\"dataframe\">\n",
       "  <thead>\n",
       "    <tr style=\"text-align: right;\">\n",
       "      <th></th>\n",
       "      <th>original data</th>\n",
       "      <th>exponent: -0.01</th>\n",
       "      <th>exponent: -1</th>\n",
       "      <th>exponent: -2.5</th>\n",
       "      <th>exponent: -5</th>\n",
       "      <th>exponent: -10</th>\n",
       "      <th>exponent: -20</th>\n",
       "    </tr>\n",
       "  </thead>\n",
       "  <tbody>\n",
       "    <tr>\n",
       "      <th>0.000000</th>\n",
       "      <td>0.000000</td>\n",
       "      <td>0.000000</td>\n",
       "      <td>0.000000</td>\n",
       "      <td>0.000000</td>\n",
       "      <td>0.000000</td>\n",
       "      <td>0.000000</td>\n",
       "      <td>0.000000</td>\n",
       "    </tr>\n",
       "    <tr>\n",
       "      <th>0.010101</th>\n",
       "      <td>0.010101</td>\n",
       "      <td>0.014549</td>\n",
       "      <td>0.020000</td>\n",
       "      <td>0.030141</td>\n",
       "      <td>0.050591</td>\n",
       "      <td>0.095711</td>\n",
       "      <td>0.182093</td>\n",
       "    </tr>\n",
       "    <tr>\n",
       "      <th>0.020202</th>\n",
       "      <td>0.020202</td>\n",
       "      <td>0.028952</td>\n",
       "      <td>0.039604</td>\n",
       "      <td>0.059245</td>\n",
       "      <td>0.098235</td>\n",
       "      <td>0.181452</td>\n",
       "      <td>0.329689</td>\n",
       "    </tr>\n",
       "    <tr>\n",
       "      <th>0.030303</th>\n",
       "      <td>0.030303</td>\n",
       "      <td>0.043212</td>\n",
       "      <td>0.058824</td>\n",
       "      <td>0.087358</td>\n",
       "      <td>0.143132</td>\n",
       "      <td>0.258344</td>\n",
       "      <td>0.449573</td>\n",
       "    </tr>\n",
       "    <tr>\n",
       "      <th>0.040404</th>\n",
       "      <td>0.040404</td>\n",
       "      <td>0.057331</td>\n",
       "      <td>0.077670</td>\n",
       "      <td>0.114523</td>\n",
       "      <td>0.185463</td>\n",
       "      <td>0.327375</td>\n",
       "      <td>0.547145</td>\n",
       "    </tr>\n",
       "  </tbody>\n",
       "</table>\n",
       "</div>"
      ],
      "text/plain": [
       "          original data  exponent: -0.01  exponent: -1  exponent: -2.5  \\\n",
       "0.000000       0.000000         0.000000      0.000000        0.000000   \n",
       "0.010101       0.010101         0.014549      0.020000        0.030141   \n",
       "0.020202       0.020202         0.028952      0.039604        0.059245   \n",
       "0.030303       0.030303         0.043212      0.058824        0.087358   \n",
       "0.040404       0.040404         0.057331      0.077670        0.114523   \n",
       "\n",
       "          exponent: -5  exponent: -10  exponent: -20  \n",
       "0.000000      0.000000       0.000000       0.000000  \n",
       "0.010101      0.050591       0.095711       0.182093  \n",
       "0.020202      0.098235       0.181452       0.329689  \n",
       "0.030303      0.143132       0.258344       0.449573  \n",
       "0.040404      0.185463       0.327375       0.547145  "
      ]
     },
     "execution_count": 90,
     "metadata": {},
     "output_type": "execute_result"
    }
   ],
   "source": [
    "data = np.linspace(0, 1, 100)\n",
    "\n",
    "df = pd.DataFrame({'original data': data}, index=data)\n",
    "\n",
    "for exponent in [-0.01, -1, -2.5, -5, -10, -20]:\n",
    "    df['exponent: {}'.format(exponent)] = exp_scale_fun(df, exponent=exponent).iloc[:, 0]\n",
    "df.head()"
   ]
  },
  {
   "cell_type": "code",
   "execution_count": 91,
   "metadata": {},
   "outputs": [
    {
     "data": {
      "text/plain": [
       "(<Figure size 432x288 with 1 Axes>,\n",
       " <matplotlib.axes._subplots.AxesSubplot at 0x157e62659e8>)"
      ]
     },
     "execution_count": 91,
     "metadata": {},
     "output_type": "execute_result"
    },
    {
     "data": {
      "image/png": "[encoded data removed]",
      "text/plain": [
       "<Figure size 432x288 with 1 Axes>"
      ]
     },
     "metadata": {
      "needs_background": "dark"
     },
     "output_type": "display_data"
    }
   ],
   "source": [
    "transformation_viz_fun(df, title='Effect of exponential transformation')"
   ]
  }
 ],
 "metadata": {
  "kernelspec": {
   "display_name": "Python 3",
   "language": "python",
   "name": "python3"
  },
  "language_info": {
   "codemirror_mode": {
    "name": "ipython",
    "version": 3
   },
   "file_extension": ".py",
   "mimetype": "text/x-python",
   "name": "python",
   "nbconvert_exporter": "python",
   "pygments_lexer": "ipython3",
   "version": "3.7.0"
  }
 },
 "nbformat": 4,
 "nbformat_minor": 2
}
